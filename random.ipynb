{
  "nbformat": 4,
  "nbformat_minor": 0,
  "metadata": {
    "colab": {
      "provenance": [],
      "authorship_tag": "ABX9TyNDzGj8CPikDfmWORSHWpUp",
      "include_colab_link": true
    },
    "kernelspec": {
      "name": "python3",
      "display_name": "Python 3"
    },
    "language_info": {
      "name": "python"
    }
  },
  "cells": [
    {
      "cell_type": "markdown",
      "metadata": {
        "id": "view-in-github",
        "colab_type": "text"
      },
      "source": [
        "<a href=\"https://colab.research.google.com/github/changedae/10131/blob/master/random.ipynb\" target=\"_parent\"><img src=\"https://colab.research.google.com/assets/colab-badge.svg\" alt=\"Open In Colab\"/></a>"
      ]
    },
    {
      "cell_type": "code",
      "execution_count": 1,
      "metadata": {
        "colab": {
          "base_uri": "https://localhost:8080/"
        },
        "id": "tWh5XemA_AM4",
        "outputId": "26502c3d-56b8-4ce1-b126-1bb130af6c42"
      },
      "outputs": [
        {
          "output_type": "stream",
          "name": "stdout",
          "text": [
            "출석최대번호?12\n",
            "샘플수?12\n",
            "[0, 0, 0, 0, 0, 0, 0, 0, 0, 0, 0, 0]\n",
            "1 1 0 0 2 1 1 3 0 0 1 2 "
          ]
        }
      ],
      "source": [
        "import random\n",
        "n=int(input('출석최대번호?'))\n",
        "nRandom=int(input('샘플수?'))\n",
        "arrRandom=[]\n",
        "for i in range(1,nRandom+1): # 랜덤개수만큼\n",
        "  arrRandom.append(int(random.randrange(1,n+1))) # 해당 범위에서 샘플링\n",
        "\n",
        "absentBook=[] # 출석 번호별로 초기화\n",
        "for i in range(n):\n",
        "    absentBook.append(0)\n",
        "\n",
        "print(absentBook)\n",
        "\n",
        "for i in range(1,nRandom+1):\n",
        "    absentBook[int(arrRandom[i-1])-1]+=1 # 샘플 번호 - 1방에 값을 하나씩 증가\n",
        "\n",
        "for i in range(0,n):\n",
        " print(absentBook[i],end=' ')"
      ]
    }
  ]
}